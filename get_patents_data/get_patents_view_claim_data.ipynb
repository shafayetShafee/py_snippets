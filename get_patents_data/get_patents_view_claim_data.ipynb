{
  "nbformat": 4,
  "nbformat_minor": 0,
  "metadata": {
    "colab": {
      "provenance": []
    },
    "kernelspec": {
      "name": "python3",
      "display_name": "Python 3"
    },
    "language_info": {
      "name": "python"
    }
  },
  "cells": [
    {
      "cell_type": "code",
      "execution_count": 2,
      "metadata": {
        "id": "INfphlG9MwaN"
      },
      "outputs": [],
      "source": [
        "import pandas as pd"
      ]
    },
    {
      "cell_type": "code",
      "source": [
        "from get_patents_data import get_patents_view_claims_data"
      ],
      "metadata": {
        "id": "WKPMY4zAOWRI"
      },
      "execution_count": 4,
      "outputs": []
    },
    {
      "cell_type": "code",
      "source": [
        "# getting data from 1990 to 1995\n",
        "\n",
        "df_90_95 = get_patents_view_claims_data(1990, 1995)"
      ],
      "metadata": {
        "id": "J0L5iFSjOnt2"
      },
      "execution_count": 5,
      "outputs": []
    },
    {
      "cell_type": "code",
      "source": [
        "df_90_95.info()"
      ],
      "metadata": {
        "colab": {
          "base_uri": "https://localhost:8080/"
        },
        "id": "0XGGimx4PZcF",
        "outputId": "42345a32-7075-48cf-a2dd-f948d4723daa"
      },
      "execution_count": 6,
      "outputs": [
        {
          "output_type": "stream",
          "name": "stdout",
          "text": [
            "<class 'pandas.core.frame.DataFrame'>\n",
            "Int64Index: 7685243 entries, 0 to 1401827\n",
            "Data columns (total 7 columns):\n",
            " #   Column          Dtype \n",
            "---  ------          ----- \n",
            " 0   patent_id       object\n",
            " 1   claim_sequence  int64 \n",
            " 2   claim_text      object\n",
            " 3   dependent       object\n",
            " 4   claim_number    int64 \n",
            " 5   exemplary       int64 \n",
            " 6   year            int64 \n",
            "dtypes: int64(4), object(3)\n",
            "memory usage: 469.1+ MB\n"
          ]
        }
      ]
    }
  ]
}